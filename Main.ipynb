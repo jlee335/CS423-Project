{
  "nbformat": 4,
  "nbformat_minor": 0,
  "metadata": {
    "colab": {
      "name": "Untitled0.ipynb",
      "provenance": [],
      "authorship_tag": "ABX9TyNebqrQt2BHCmw+cwSpZrFW",
      "include_colab_link": true
    },
    "kernelspec": {
      "name": "python3",
      "display_name": "Python 3"
    }
  },
  "cells": [
    {
      "cell_type": "markdown",
      "metadata": {
        "id": "view-in-github",
        "colab_type": "text"
      },
      "source": [
        "<a href=\"https://colab.research.google.com/github/jlee335/CS423-Project/blob/master/Main.ipynb\" target=\"_parent\"><img src=\"https://colab.research.google.com/assets/colab-badge.svg\" alt=\"Open In Colab\"/></a>"
      ]
    },
    {
      "cell_type": "code",
      "metadata": {
        "id": "qIrwk5I3pjn7",
        "colab_type": "code",
        "colab": {}
      },
      "source": [
        "import cv2 as cv\n",
        "import sys\n",
        "img = cv.imread(cv.samples.findFile(\"starry_night.jpg\"))\n",
        "if img is None:\n",
        "    sys.exit(\"Could not read the image.\")\n",
        "cv.imshow(\"Display window\", img)\n",
        "k = cv.waitKey(0)\n",
        "if k == ord(\"s\"):\n",
        "    cv.imwrite(\"starry_night.png\", img)"
      ],
      "execution_count": 0,
      "outputs": []
    }
  ]
}